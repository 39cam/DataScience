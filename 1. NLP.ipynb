{
  "cells": [
    {
      "cell_type": "code",
      "execution_count": null,
      "id": "92673e10-8a1e-4706-834e-a88529857548",
      "metadata": {
        "trusted": true
      },
      "outputs": [],
      "source": [
        "import pandas as pd\n",
        "from wordcloud import WordCloud, STOPWORDS\n",
        "import matplotlib.pyplot as plt"
      ]
    },
    {
      "cell_type": "code",
      "execution_count": null,
      "id": "2738fb97-1482-4bd1-9cfb-87f131f00f60",
      "metadata": {
        "trusted": true
      },
      "outputs": [],
      "source": [
        "df = pd.read_csv('DisneylandReviews.csv')"
      ]
    },
    {
      "cell_type": "code",
      "execution_count": null,
      "id": "e78ff34c-027d-4de4-92a0-26801e4e0f8e",
      "metadata": {
        "trusted": true
      },
      "outputs": [],
      "source": [
        "df"
      ]
    },
    {
      "cell_type": "markdown",
      "id": "99440f14-de81-46e6-98ca-12ff876d9278",
      "metadata": {},
      "source": [
        "### Entender el dataset"
      ]
    },
    {
      "cell_type": "code",
      "execution_count": null,
      "id": "c431607c-b2aa-4c9b-92ce-717053c0de09",
      "metadata": {
        "trusted": true
      },
      "outputs": [],
      "source": [
        "df.info()"
      ]
    },
    {
      "cell_type": "code",
      "execution_count": null,
      "id": "75c3d566-3596-4e80-89a5-bc43c9cf854c",
      "metadata": {
        "trusted": true
      },
      "outputs": [],
      "source": [
        "# mostrar filas de 100 a 200\n",
        "df.iloc[100:201, :]"
      ]
    },
    {
      "cell_type": "code",
      "execution_count": null,
      "id": "1cd7194d-d98d-4801-be40-91e907c4a0f7",
      "metadata": {
        "trusted": true
      },
      "outputs": [],
      "source": [
        "## ¿Hay comentarios largos?\n",
        "\n",
        "def calculate_words(fila):\n",
        "    word = fila[\"Review_Text\"]\n",
        "    return len(word.split(\" \"))\n",
        "\n",
        "df[\"words_count\"] = df.apply(calculate_words, axis=1)"
      ]
    },
    {
      "cell_type": "code",
      "execution_count": null,
      "id": "aae2bf1a-6f29-4d67-8cf8-e8980120dd7e",
      "metadata": {
        "trusted": true
      },
      "outputs": [],
      "source": [
        "df.describe()"
      ]
    },
    {
      "cell_type": "code",
      "execution_count": null,
      "id": "67deb966-72d7-4923-a5dd-8d60c8eb9e9a",
      "metadata": {
        "trusted": true
      },
      "outputs": [],
      "source": [
        "df[df[\"words_count\"] < 5]"
      ]
    },
    {
      "cell_type": "markdown",
      "id": "0c96d9e2-de2f-48cb-8185-a5434bff2874",
      "metadata": {},
      "source": [
        "## palabras que se repiten"
      ]
    },
    {
      "cell_type": "code",
      "execution_count": null,
      "id": "ba7bcf2e-5daf-4dc5-b739-eb348c5f8fac",
      "metadata": {
        "trusted": true
      },
      "outputs": [],
      "source": [
        "texto_completo = ' '.join(review for review in df['Review_Text'])"
      ]
    },
    {
      "cell_type": "code",
      "execution_count": null,
      "id": "f86f2f25-1202-42ff-8b4d-466d1c400b84",
      "metadata": {
        "trusted": true
      },
      "outputs": [],
      "source": [
        "stopwords = set(STOPWORDS)\n",
        "stopwords.update([\"de\", \"la\", \"que\", \"el\", \"en\", \"y\", \"a\", \"los\", \"del\", \"las\", \"un\", \"por\", \"no\", \"una\", \"su\", \"para\", \"es\", \"al\", \"lo\", \"como\", \"más\", \"pero\", \"sus\", \"le\", \"ya\", \"o\", \"este\", \"ha\", \"sí\", \"porque\", \"esta\", \"cuando\", \"muy\", \"sin\", \"sobre\", \"también\", \"me\", \"hasta\", \"hay\", \"donde\", \"quien\", \"desde\", \"todo\", \"nos\", \"durante\", \"todos\", \"uno\", \"les\", \"ni\", \"contra\", \"otros\", \"ese\", \"eso\", \"ante\", \"ellos\", \"e\", \"esto\", \"mí\", \"antes\", \"algunos\", \"qué\", \"ninguno\", \"mi\", \"mis\", \"tú\", \"te\", \"ti\", \"tu\", \"tus\", \"ellas\", \"nosotros\", \"vosotros\", \"vosotras\", \"os\", \"mío\", \"mía\", \"míos\", \"mías\", \"tuyo\", \"tuya\"])\n",
        "\n",
        "wordcloud = WordCloud(stopwords=stopwords,\n",
        "                      background_color=\"white\",\n",
        "                      max_words=100,\n",
        "                      width=800,\n",
        "                      height=400).generate(texto_completo)\n",
        "\n",
        "print(\"\\nGenerando la nube de palabras...\")\n",
        "plt.figure(figsize=(10, 5))\n",
        "plt.imshow(wordcloud, interpolation='bilinear')\n",
        "plt.axis(\"off\")\n",
        "plt.show()"
      ]
    },
    {
      "cell_type": "code",
      "execution_count": null,
      "id": "afb88df9-5b12-4c87-8f61-bf17c1cc5031",
      "metadata": {
        "trusted": true
      },
      "outputs": [],
      "source": []
    }
  ],
  "metadata": {
    "kernelspec": {
      "display_name": "Python 3",
      "language": "python",
      "name": "python3"
    },
    "language_info": {
      "codemirror_mode": {
        "name": "ipython",
        "version": 3
      },
      "file_extension": ".py",
      "mimetype": "text/x-python",
      "name": "python",
      "nbconvert_exporter": "python",
      "pygments_lexer": "ipython3",
      "version": "3.13.5"
    }
  },
  "nbformat": 4,
  "nbformat_minor": 5
}
