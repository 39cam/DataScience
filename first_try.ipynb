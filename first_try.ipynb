{
 "cells": [
  {
   "cell_type": "markdown",
   "id": "8630746c",
   "metadata": {},
   "source": [
    "# Código de prueba Dataframes"
   ]
  },
  {
   "cell_type": "code",
   "execution_count": null,
   "id": "b64b932f",
   "metadata": {},
   "outputs": [],
   "source": [
    "import pandas as pd"
   ]
  }
 ],
 "metadata": {
  "kernelspec": {
   "display_name": "Python 3",
   "language": "python",
   "name": "python3"
  },
  "language_info": {
   "name": "python",
   "version": "3.13.5"
  }
 },
 "nbformat": 4,
 "nbformat_minor": 5
}
